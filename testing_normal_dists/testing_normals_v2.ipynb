{
 "cells": [
  {
   "cell_type": "code",
   "execution_count": 15,
   "metadata": {},
   "outputs": [],
   "source": [
    "from testing_normal_functions import clt_sample\n",
    "import numpy as np\n",
    "from scipy.stats import beta\n",
    "\n",
    "np.random.seed(45)\n",
    "\n",
    "μ_1 = np.array([0.25,0.75])\n",
    "μ_2 = np.array([0.75, 0.25])\n",
    "\n",
    "α, β = 2, 2\n",
    "prior = lambda : beta.rvs(α, β)\n",
    "exp_rho = exp_rho = α / (α + β)\n",
    "second_mom_rho = beta.moment(2, α, β)"
   ]
  },
  {
   "cell_type": "code",
   "execution_count": 16,
   "metadata": {},
   "outputs": [
    {
     "data": {
      "text/plain": [
       "0.3"
      ]
     },
     "execution_count": 16,
     "metadata": {},
     "output_type": "execute_result"
    }
   ],
   "source": []
  },
  {
   "cell_type": "markdown",
   "metadata": {},
   "source": [
    "<h2> Test with Beta(2,2) prior </h2>"
   ]
  },
  {
   "cell_type": "code",
   "execution_count": null,
   "metadata": {},
   "outputs": [],
   "source": []
  }
 ],
 "metadata": {
  "kernelspec": {
   "display_name": "dcsbm_venv",
   "language": "python",
   "name": "python3"
  },
  "language_info": {
   "codemirror_mode": {
    "name": "ipython",
    "version": 3
   },
   "file_extension": ".py",
   "mimetype": "text/x-python",
   "name": "python",
   "nbconvert_exporter": "python",
   "pygments_lexer": "ipython3",
   "version": "3.10.4"
  }
 },
 "nbformat": 4,
 "nbformat_minor": 2
}
