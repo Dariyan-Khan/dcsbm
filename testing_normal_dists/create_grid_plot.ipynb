{
 "cells": [
  {
   "cell_type": "markdown",
   "metadata": {},
   "source": [
    "<h1> Create Grid Plot </h1>"
   ]
  },
  {
   "cell_type": "code",
   "execution_count": 1,
   "metadata": {},
   "outputs": [],
   "source": [
    "import sys\n",
    "import pickle\n",
    "sys.path.append('.')\n",
    "\n",
    "from testing_normal_functions import spectral_emb, clt_sample, plot_spherical_data,\\\n",
    "                                    mvn_assump_samples_wrapper, samples_under_assump,\\\n",
    "                                    print_pickle_data, calculate_avg_wass_dist\n",
    "import numpy as np\n",
    "from scipy.stats import beta, uniform, wasserstein_distance\n",
    "import matplotlib.pyplot as plt\n",
    "from copy import deepcopy\n",
    "import pandas as pd\n",
    "\n",
    "\n",
    "np.random.seed(45)\n",
    "\n",
    "μ_1 = np.array([0.25,0.75])\n",
    "μ_2 = np.array([0.75, 0.25])\n",
    "\n",
    "N_t=1000"
   ]
  },
  {
   "cell_type": "code",
   "execution_count": 2,
   "metadata": {},
   "outputs": [
    {
     "data": {
      "text/plain": [
       "[1, 2, 4, 8, 16, 32, 64]"
      ]
     },
     "execution_count": 2,
     "metadata": {},
     "output_type": "execute_result"
    }
   ],
   "source": [
    "beta_params = [2**i for i in range(7)]\n",
    "beta_params"
   ]
  },
  {
   "cell_type": "code",
   "execution_count": 4,
   "metadata": {},
   "outputs": [
    {
     "name": "stdout",
     "output_type": "stream",
     "text": [
      " Calculating stats for beta(1,1): \n"
     ]
    },
    {
     "name": "stderr",
     "output_type": "stream",
     "text": [
      " 96%|█████████▌| 960/1000 [02:10<00:05,  7.37it/s]\n"
     ]
    },
    {
     "ename": "KeyboardInterrupt",
     "evalue": "",
     "output_type": "error",
     "traceback": [
      "\u001b[0;31m---------------------------------------------------------------------------\u001b[0m",
      "\u001b[0;31mKeyboardInterrupt\u001b[0m                         Traceback (most recent call last)",
      "Cell \u001b[0;32mIn[4], line 9\u001b[0m\n\u001b[1;32m      7\u001b[0m second_mom_rho \u001b[38;5;241m=\u001b[39m beta\u001b[38;5;241m.\u001b[39mmoment(\u001b[38;5;241m2\u001b[39m, α, β)\n\u001b[1;32m      8\u001b[0m \u001b[38;5;28mprint\u001b[39m(\u001b[38;5;124mf\u001b[39m\u001b[38;5;124m\"\u001b[39m\u001b[38;5;124m Calculating stats for beta(\u001b[39m\u001b[38;5;132;01m{\u001b[39;00mα\u001b[38;5;132;01m}\u001b[39;00m\u001b[38;5;124m,\u001b[39m\u001b[38;5;132;01m{\u001b[39;00mβ\u001b[38;5;132;01m}\u001b[39;00m\u001b[38;5;124m): \u001b[39m\u001b[38;5;124m\"\u001b[39m)\n\u001b[0;32m----> 9\u001b[0m avg_dist\u001b[38;5;241m=\u001b[39m \u001b[43mcalculate_avg_wass_dist\u001b[49m\u001b[43m(\u001b[49m\u001b[43mprior\u001b[49m\u001b[43m,\u001b[49m\u001b[43m \u001b[49m\u001b[43mμ_1\u001b[49m\u001b[43m,\u001b[49m\u001b[43m \u001b[49m\u001b[43mμ_2\u001b[49m\u001b[43m,\u001b[49m\u001b[43m \u001b[49m\u001b[43mexp_rho\u001b[49m\u001b[43m,\u001b[49m\u001b[43m \u001b[49m\u001b[43msecond_mom_rho\u001b[49m\u001b[43m,\u001b[49m\u001b[43m \u001b[49m\u001b[43mN_t\u001b[49m\u001b[38;5;241;43m=\u001b[39;49m\u001b[38;5;241;43m1000\u001b[39;49m\u001b[43m,\u001b[49m\u001b[43m \u001b[49m\u001b[43mN_ρ\u001b[49m\u001b[38;5;241;43m=\u001b[39;49m\u001b[38;5;241;43m1_000\u001b[39;49m\u001b[43m,\u001b[49m\u001b[43m \u001b[49m\u001b[43mfilename\u001b[49m\u001b[38;5;241;43m=\u001b[39;49m\u001b[38;5;124;43mf\u001b[39;49m\u001b[38;5;124;43m\"\u001b[39;49m\u001b[38;5;124;43mbeta_\u001b[39;49m\u001b[38;5;132;43;01m{\u001b[39;49;00m\u001b[43mα\u001b[49m\u001b[38;5;132;43;01m}\u001b[39;49;00m\u001b[38;5;124;43m_\u001b[39;49m\u001b[38;5;132;43;01m{\u001b[39;49;00m\u001b[43mβ\u001b[49m\u001b[38;5;132;43;01m}\u001b[39;49;00m\u001b[38;5;124;43m_data\u001b[39;49m\u001b[38;5;124;43m\"\u001b[39;49m\u001b[43m)\u001b[49m\n\u001b[1;32m     10\u001b[0m \u001b[38;5;28mprint\u001b[39m(\u001b[38;5;124mf\u001b[39m\u001b[38;5;124m\"\u001b[39m\u001b[38;5;124mbeta_\u001b[39m\u001b[38;5;132;01m{\u001b[39;00mα\u001b[38;5;132;01m}\u001b[39;00m\u001b[38;5;124m_\u001b[39m\u001b[38;5;132;01m{\u001b[39;00mβ\u001b[38;5;132;01m}\u001b[39;00m\u001b[38;5;124m_data avg dist: \u001b[39m\u001b[38;5;132;01m{\u001b[39;00mavg_dist\u001b[38;5;132;01m}\u001b[39;00m\u001b[38;5;124m\"\u001b[39m)\n\u001b[1;32m     11\u001b[0m img_arr[i,j] \u001b[38;5;241m=\u001b[39m avg_dist\n",
      "File \u001b[0;32m~/Library/CloudStorage/OneDrive-ImperialCollegeLondon/Work (one drive)/Imperial/year_4/M4R/dcsbm/testing_normal_dists/testing_normal_functions.py:288\u001b[0m, in \u001b[0;36mcalculate_avg_wass_dist\u001b[0;34m(prior, μ_1, μ_2, exp_rho, second_mom_rho, N_t, N_ρ, save_data, filename)\u001b[0m\n\u001b[1;32m    285\u001b[0m \u001b[38;5;28;01mif\u001b[39;00m save_data \u001b[38;5;129;01mand\u001b[39;00m filename \u001b[38;5;129;01mis\u001b[39;00m \u001b[38;5;28;01mNone\u001b[39;00m:\n\u001b[1;32m    286\u001b[0m     \u001b[38;5;28;01mraise\u001b[39;00m \u001b[38;5;167;01mFileNotFoundError\u001b[39;00m(\u001b[38;5;124m\"\u001b[39m\u001b[38;5;124mEnter a filename\u001b[39m\u001b[38;5;124m\"\u001b[39m)\n\u001b[0;32m--> 288\u001b[0m samples_from_clt \u001b[38;5;241m=\u001b[39m \u001b[43mclt_sample\u001b[49m\u001b[43m(\u001b[49m\u001b[43mprior\u001b[49m\u001b[43m,\u001b[49m\u001b[43m \u001b[49m\u001b[43mμ_1\u001b[49m\u001b[43m,\u001b[49m\u001b[43m \u001b[49m\u001b[43mμ_2\u001b[49m\u001b[43m,\u001b[49m\u001b[43m \u001b[49m\u001b[43mexp_rho\u001b[49m\u001b[43m,\u001b[49m\u001b[43m \u001b[49m\u001b[43mN_t\u001b[49m\u001b[38;5;241;43m=\u001b[39;49m\u001b[43mN_t\u001b[49m\u001b[43m)\u001b[49m\n\u001b[1;32m    289\u001b[0m mvn1_x, mvn1_y, mvn2_x, mvn2_y \u001b[38;5;241m=\u001b[39m mvn_assump_samples_wrapper(μ_1, μ_2, prior, exp_rho, second_mom_rho,\\\n\u001b[1;32m    290\u001b[0m                                                             N_ρ\u001b[38;5;241m=\u001b[39mN_ρ, N_t\u001b[38;5;241m=\u001b[39mN_t)\n\u001b[1;32m    292\u001b[0m sph_trans_clt_group_1 \u001b[38;5;241m=\u001b[39m np\u001b[38;5;241m.\u001b[39marctan2(samples_from_clt[:N_t,\u001b[38;5;241m1\u001b[39m], samples_from_clt[:N_t,\u001b[38;5;241m0\u001b[39m])\n",
      "File \u001b[0;32m~/Library/CloudStorage/OneDrive-ImperialCollegeLondon/Work (one drive)/Imperial/year_4/M4R/dcsbm/testing_normal_dists/testing_normal_functions.py:87\u001b[0m, in \u001b[0;36mclt_sample\u001b[0;34m(prior, μ_1, μ_2, exp_rho, N_t)\u001b[0m\n\u001b[1;32m     83\u001b[0m \u001b[38;5;28;01mfor\u001b[39;00m _ \u001b[38;5;129;01min\u001b[39;00m tqdm\u001b[38;5;241m.\u001b[39mtqdm(\u001b[38;5;28mrange\u001b[39m(N_t)):\n\u001b[1;32m     84\u001b[0m     \u001b[38;5;66;03m# sample the ρ's\u001b[39;00m\n\u001b[1;32m     85\u001b[0m     ρ \u001b[38;5;241m=\u001b[39m prior()\n\u001b[1;32m     86\u001b[0m     group_1_samples\u001b[38;5;241m.\u001b[39mappend(np\u001b[38;5;241m.\u001b[39mrandom\u001b[38;5;241m.\u001b[39mmultivariate_normal(ρ\u001b[38;5;241m*\u001b[39mgroup_mean,        \n\u001b[0;32m---> 87\u001b[0m                         \u001b[43mcovariance_estimate\u001b[49m\u001b[43m(\u001b[49m\u001b[43mρ\u001b[49m\u001b[38;5;241;43m*\u001b[39;49m\u001b[43mgroup_mean\u001b[49m\u001b[43m,\u001b[49m\u001b[43m \u001b[49m\u001b[43mμ_1\u001b[49m\u001b[43m,\u001b[49m\u001b[43m \u001b[49m\n\u001b[1;32m     88\u001b[0m \u001b[43m                                            \u001b[49m\u001b[43mμ_2\u001b[49m\u001b[43m,\u001b[49m\u001b[43m \u001b[49m\u001b[43mprior\u001b[49m\u001b[43m,\u001b[49m\u001b[43m \u001b[49m\u001b[43mexp_rho\u001b[49m\u001b[43m)\u001b[49m))\n\u001b[1;32m     90\u001b[0m     ρ_1_samples\u001b[38;5;241m.\u001b[39mappend(ρ)\n\u001b[1;32m     92\u001b[0m group_1_samples \u001b[38;5;241m=\u001b[39m np\u001b[38;5;241m.\u001b[39marray(group_1_samples)\n",
      "File \u001b[0;32m~/Library/CloudStorage/OneDrive-ImperialCollegeLondon/Work (one drive)/Imperial/year_4/M4R/dcsbm/testing_normal_dists/testing_normal_functions.py:24\u001b[0m, in \u001b[0;36mcovariance_estimate\u001b[0;34m(x, μ_1, μ_2, prior, exp_rho, N_ρ, N_t)\u001b[0m\n\u001b[1;32m     23\u001b[0m \u001b[38;5;28;01mdef\u001b[39;00m \u001b[38;5;21mcovariance_estimate\u001b[39m(x, μ_1, μ_2, prior, exp_rho, N_ρ\u001b[38;5;241m=\u001b[39m\u001b[38;5;241m1000\u001b[39m, N_t\u001b[38;5;241m=\u001b[39m\u001b[38;5;241m1000\u001b[39m):\n\u001b[0;32m---> 24\u001b[0m     ρ_samples_1 \u001b[38;5;241m=\u001b[39m np\u001b[38;5;241m.\u001b[39marray([prior() \u001b[38;5;28;01mfor\u001b[39;00m _ \u001b[38;5;129;01min\u001b[39;00m \u001b[38;5;28mrange\u001b[39m(N_ρ)])\n\u001b[1;32m     25\u001b[0m     ρ_samples_2 \u001b[38;5;241m=\u001b[39m np\u001b[38;5;241m.\u001b[39marray([prior() \u001b[38;5;28;01mfor\u001b[39;00m _ \u001b[38;5;129;01min\u001b[39;00m \u001b[38;5;28mrange\u001b[39m(N_ρ)])\n\u001b[1;32m     26\u001b[0m     μ_1_integral_estimate \u001b[38;5;241m=\u001b[39m (\u001b[38;5;241m1\u001b[39m \u001b[38;5;241m/\u001b[39m N_ρ) \u001b[38;5;241m*\u001b[39m \u001b[38;5;28msum\u001b[39m(exp_X1_inner_func(x, ρ, μ_1) \u001b[38;5;28;01mfor\u001b[39;00m ρ \u001b[38;5;129;01min\u001b[39;00m ρ_samples_1)\n",
      "File \u001b[0;32m~/Library/CloudStorage/OneDrive-ImperialCollegeLondon/Work (one drive)/Imperial/year_4/M4R/dcsbm/testing_normal_dists/testing_normal_functions.py:24\u001b[0m, in \u001b[0;36m<listcomp>\u001b[0;34m(.0)\u001b[0m\n\u001b[1;32m     23\u001b[0m \u001b[38;5;28;01mdef\u001b[39;00m \u001b[38;5;21mcovariance_estimate\u001b[39m(x, μ_1, μ_2, prior, exp_rho, N_ρ\u001b[38;5;241m=\u001b[39m\u001b[38;5;241m1000\u001b[39m, N_t\u001b[38;5;241m=\u001b[39m\u001b[38;5;241m1000\u001b[39m):\n\u001b[0;32m---> 24\u001b[0m     ρ_samples_1 \u001b[38;5;241m=\u001b[39m np\u001b[38;5;241m.\u001b[39marray([\u001b[43mprior\u001b[49m\u001b[43m(\u001b[49m\u001b[43m)\u001b[49m \u001b[38;5;28;01mfor\u001b[39;00m _ \u001b[38;5;129;01min\u001b[39;00m \u001b[38;5;28mrange\u001b[39m(N_ρ)])\n\u001b[1;32m     25\u001b[0m     ρ_samples_2 \u001b[38;5;241m=\u001b[39m np\u001b[38;5;241m.\u001b[39marray([prior() \u001b[38;5;28;01mfor\u001b[39;00m _ \u001b[38;5;129;01min\u001b[39;00m \u001b[38;5;28mrange\u001b[39m(N_ρ)])\n\u001b[1;32m     26\u001b[0m     μ_1_integral_estimate \u001b[38;5;241m=\u001b[39m (\u001b[38;5;241m1\u001b[39m \u001b[38;5;241m/\u001b[39m N_ρ) \u001b[38;5;241m*\u001b[39m \u001b[38;5;28msum\u001b[39m(exp_X1_inner_func(x, ρ, μ_1) \u001b[38;5;28;01mfor\u001b[39;00m ρ \u001b[38;5;129;01min\u001b[39;00m ρ_samples_1)\n",
      "Cell \u001b[0;32mIn[4], line 5\u001b[0m, in \u001b[0;36m<lambda>\u001b[0;34m()\u001b[0m\n\u001b[1;32m      3\u001b[0m \u001b[38;5;28;01mfor\u001b[39;00m (i,α) \u001b[38;5;129;01min\u001b[39;00m \u001b[38;5;28menumerate\u001b[39m(beta_params):\n\u001b[1;32m      4\u001b[0m     \u001b[38;5;28;01mfor\u001b[39;00m (j,β) \u001b[38;5;129;01min\u001b[39;00m \u001b[38;5;28menumerate\u001b[39m(beta_params):\n\u001b[0;32m----> 5\u001b[0m         prior \u001b[38;5;241m=\u001b[39m \u001b[38;5;28;01mlambda\u001b[39;00m : \u001b[43mbeta\u001b[49m\u001b[38;5;241;43m.\u001b[39;49m\u001b[43mrvs\u001b[49m\u001b[43m(\u001b[49m\u001b[43mα\u001b[49m\u001b[43m,\u001b[49m\u001b[43m \u001b[49m\u001b[43mβ\u001b[49m\u001b[43m)\u001b[49m\n\u001b[1;32m      6\u001b[0m         exp_rho \u001b[38;5;241m=\u001b[39m α \u001b[38;5;241m/\u001b[39m (α \u001b[38;5;241m+\u001b[39m β)\n\u001b[1;32m      7\u001b[0m         second_mom_rho \u001b[38;5;241m=\u001b[39m beta\u001b[38;5;241m.\u001b[39mmoment(\u001b[38;5;241m2\u001b[39m, α, β)\n",
      "File \u001b[0;32m~/Unnatrual_Language_Processing/ulp_venv/lib/python3.10/site-packages/scipy/stats/_distn_infrastructure.py:1083\u001b[0m, in \u001b[0;36mrv_generic.rvs\u001b[0;34m(self, *args, **kwds)\u001b[0m\n\u001b[1;32m   1080\u001b[0m vals \u001b[38;5;241m=\u001b[39m vals \u001b[38;5;241m*\u001b[39m scale \u001b[38;5;241m+\u001b[39m loc\n\u001b[1;32m   1082\u001b[0m \u001b[38;5;66;03m# do not forget to restore the _random_state\u001b[39;00m\n\u001b[0;32m-> 1083\u001b[0m \u001b[38;5;28;01mif\u001b[39;00m rndm \u001b[38;5;129;01mis\u001b[39;00m \u001b[38;5;129;01mnot\u001b[39;00m \u001b[38;5;28;01mNone\u001b[39;00m:\n\u001b[1;32m   1084\u001b[0m     \u001b[38;5;28mself\u001b[39m\u001b[38;5;241m.\u001b[39m_random_state \u001b[38;5;241m=\u001b[39m random_state_saved\n\u001b[1;32m   1086\u001b[0m \u001b[38;5;66;03m# Cast to int if discrete\u001b[39;00m\n",
      "\u001b[0;31mKeyboardInterrupt\u001b[0m: "
     ]
    }
   ],
   "source": [
    "img_arr = np.zeros((len(beta_params), len(beta_params)))\n",
    "\n",
    "for (i,α) in enumerate(beta_params):\n",
    "    for (j,β) in enumerate(beta_params):\n",
    "        prior = lambda : beta.rvs(α, β)\n",
    "        exp_rho = α / (α + β)\n",
    "        second_mom_rho = beta.moment(2, α, β)\n",
    "        print(f\" Calculating stats for beta({α},{β}): \")\n",
    "        avg_dist= calculate_avg_wass_dist(prior, μ_1, μ_2, exp_rho, second_mom_rho, N_t=1000, N_ρ=1_000, filename=f\"beta_{α}_{β}_data\")\n",
    "        print(f\"beta_{α}_{β}_data avg dist: {avg_dist}\")\n",
    "        img_arr[i,j] = avg_dist\n",
    "        "
   ]
  },
  {
   "cell_type": "code",
   "execution_count": 32,
   "metadata": {},
   "outputs": [
    {
     "data": {
      "text/plain": [
       "Text(0, 0.5, 'log_2(β)')"
      ]
     },
     "execution_count": 32,
     "metadata": {},
     "output_type": "execute_result"
    },
    {
     "data": {
      "image/png": "[encoded data removed]",
      "text/plain": [
       "<Figure size 640x480 with 2 Axes>"
      ]
     },
     "metadata": {},
     "output_type": "display_data"
    }
   ],
   "source": [
    "fig, ax = plt.subplots()\n",
    "img = ax.pcolor(range(7), range(7), img_arr)\n",
    "ax.set_aspect(\"auto\")\n",
    "plt.colorbar(img)\n",
    "plt.title(f\"Plot for Wasserstein distance of approximations\")\n",
    "plt.xlabel('log_2(α)')\n",
    "plt.ylabel('log_2(β)')"
   ]
  },
  {
   "cell_type": "code",
   "execution_count": 40,
   "metadata": {},
   "outputs": [
    {
     "name": "stdout",
     "output_type": "stream",
     "text": [
      "          0         1         2         3         4         5         6\n",
      "0  0.063513  0.186080  0.442461  0.773713  1.014277  1.214728  1.477948\n",
      "1  0.021442  0.028729  0.111114  0.303478  0.634312  0.969039  1.172397\n",
      "2  0.033242  0.024792  0.009424  0.081091  0.245033  0.510633  0.874913\n",
      "3  0.037488  0.038223  0.027875  0.007253  0.066292  0.204277  0.465395\n",
      "4  0.041627  0.037773  0.034639  0.024376  0.008773  0.060037  0.176915\n",
      "5  0.041038  0.040695  0.036474  0.033078  0.024120  0.007064  0.055652\n",
      "6  0.038566  0.038060  0.039053  0.037047  0.033930  0.026481  0.004317\n"
     ]
    }
   ],
   "source": [
    "print(pd.DataFrame(img_arr))"
   ]
  },
  {
   "cell_type": "code",
   "execution_count": 36,
   "metadata": {},
   "outputs": [
    {
     "name": "stdout",
     "output_type": "stream",
     "text": [
      "0.06351332637209517\n"
     ]
    }
   ],
   "source": [
    "with open('beta_1_1_data.pkl', 'rb') as file:\n",
    "    for _ in range(5):\n",
    "        avg_dist = pickle.load(file)"
   ]
  },
  {
   "cell_type": "code",
   "execution_count": null,
   "metadata": {},
   "outputs": [],
   "source": [
    "for α in beta_params:\n",
    "    for β in beta_params:\n",
    "        with open(f\"beta_{α}_{β}_data.pkl\", 'rb') as file:\n",
    "            for _ in range(5):\n",
    "                avg_dist = pickle.load(file)\n",
    "            \n"
   ]
  },
  {
   "cell_type": "code",
   "execution_count": 39,
   "metadata": {},
   "outputs": [
    {
     "name": "stdout",
     "output_type": "stream",
     "text": [
      "          0         1         2         3         4         5         6\n",
      "0  0.063513  0.186080  0.442461  0.773713  1.014277  1.214728  1.477948\n",
      "1  0.021442  0.028729  0.111114  0.303478  0.634312  0.969039  1.172397\n",
      "2  0.033242  0.024792  0.009424  0.081091  0.245033  0.510633  0.874913\n",
      "3  0.037488  0.038223  0.027875  0.007253  0.066292  0.204277  0.465395\n",
      "4  0.041627  0.037773  0.034639  0.024376  0.008773  0.060037  0.176915\n",
      "5  0.041038  0.040695  0.036474  0.033078  0.024120  0.007064  0.055652\n",
      "6  0.038566  0.038060  0.039053  0.037047  0.033930  0.026481  0.004317\n"
     ]
    }
   ],
   "source": [
    "print(pd.DataFrame(img_arr))"
   ]
  },
  {
   "cell_type": "code",
   "execution_count": null,
   "metadata": {},
   "outputs": [],
   "source": []
  }
 ],
 "metadata": {
  "kernelspec": {
   "display_name": "dcsbm_venv",
   "language": "python",
   "name": "python3"
  },
  "language_info": {
   "codemirror_mode": {
    "name": "ipython",
    "version": 3
   },
   "file_extension": ".py",
   "mimetype": "text/x-python",
   "name": "python",
   "nbconvert_exporter": "python",
   "pygments_lexer": "ipython3",
   "version": "3.10.4"
  }
 },
 "nbformat": 4,
 "nbformat_minor": 2
}
