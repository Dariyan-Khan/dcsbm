{
 "cells": [
  {
   "cell_type": "code",
   "execution_count": 2,
   "metadata": {},
   "outputs": [
    {
     "data": {
      "text/plain": [
       "array([[-0.98966992,  0.97315006]])"
      ]
     },
     "execution_count": 2,
     "metadata": {},
     "output_type": "execute_result"
    }
   ],
   "source": [
    "import numpy as np\n",
    "\n",
    "# Define the mean vector and covariance matrix\n",
    "\n",
    "def generate_mvn(μ_γ, Σ_γ, size=1):\n",
    "    \n",
    "    if μ_γ is None:\n",
    "        μ_γ = np.array([0, 0]) \n",
    "    \n",
    "    if Σ_γ is None:\n",
    "        Σ_γ = np.array([[1, 0], [0, 1]])\n",
    "\n",
    "    # Generate random samples from the multivariate normal distribution\n",
    "    mvn_sample = np.random.multivariate_normal(μ_γ, Σ_γ, size=size)\n",
    "    \n",
    "    return mvn_sample\n",
    "\n",
    "# Print the generated sam\n",
    "\n",
    "generate_mvn()\n"
   ]
  },
  {
   "cell_type": "code",
   "execution_count": 7,
   "metadata": {},
   "outputs": [
    {
     "data": {
      "text/plain": [
       "array([[0.78590475, 0.98960179],\n",
       "       [0.98960179, 3.6605202 ]])"
      ]
     },
     "execution_count": 7,
     "metadata": {},
     "output_type": "execute_result"
    }
   ],
   "source": [
    "import numpy as np\n",
    "from scipy.stats import wishart\n",
    "\n",
    "# Define the mean vector and covariance matrix\n",
    "\n",
    "def generate_wishart(Φ_w=None, df=None, size=1):\n",
    "    if Φ_w is None:\n",
    "        Φ_w = np.array([[1, 0], [0, 1]])\n",
    "\n",
    "\n",
    "    # Define the degrees of freedom\n",
    "    if df is None:\n",
    "        df = 3\n",
    "\n",
    "    # Generate random samples from the Wishart distribution\n",
    "    wishart_samples = wishart.rvs(df, Φ_w, size=1)\n",
    "\n",
    "    # Print the generated samples\n",
    "    return wishart_samples\n",
    "\n",
    "generate_wishart()"
   ]
  },
  {
   "cell_type": "code",
   "execution_count": 16,
   "metadata": {},
   "outputs": [
    {
     "name": "stdout",
     "output_type": "stream",
     "text": [
      "[[1 2 5]\n",
      " [3 4 6]\n",
      " [5 6 1]]\n"
     ]
    }
   ],
   "source": [
    "import numpy as np\n",
    "\n",
    "def create_block_matrix(mat, vec):\n",
    "    # Create the block matrix\n",
    "    block_matrix = np.block([[mat, vec[:, np.newaxis]], [vec, 1]])\n",
    "\n",
    "    # Return the block matrix\n",
    "    return block_matrix\n",
    "\n",
    "# Define the matrix and vector\n",
    "mat = np.array([[1, 2], [3, 4]])\n",
    "vec = np.array([5, 6])\n",
    "\n",
    "# Call the create_block_matrix function\n",
    "block_matrix = create_block_matrix(mat, vec)\n",
    "\n",
    "# Print the block matrix\n",
    "print(block_matrix)\n"
   ]
  },
  {
   "cell_type": "code",
   "execution_count": 9,
   "metadata": {},
   "outputs": [],
   "source": [
    "\n",
    "# Define the matrix and vecto\n",
    "\n",
    "# def create_block_matrix(mat, vec):\n",
    "#     # Create the block matrix\n",
    "#     block_matrix = np.block([[mat, vec[:, np.newaxis]], [vec, 1]])\n",
    "\n",
    "#     # Print the block matrix\n",
    "#     return block_matrix"
   ]
  },
  {
   "cell_type": "code",
   "execution_count": 10,
   "metadata": {},
   "outputs": [],
   "source": [
    "import numpy as np\n",
    "\n",
    "# Define the matrix\n",
    "\n",
    "def calculate_log_det(matrix):\n",
    "\n",
    "    # Calculate the determinant of the matrix\n",
    "    det = np.linalg.det(matrix)\n",
    "    # Calculate the log of the determinant of the matrix\n",
    "    log_det = np.log(det)\n",
    "\n",
    "    # Print the log of the determinant of the matrix\n",
    "    return log_det\n"
   ]
  },
  {
   "cell_type": "code",
   "execution_count": 34,
   "metadata": {},
   "outputs": [],
   "source": [
    "def sample_pipeline(num_samples=20):\n",
    "    det_samples = []\n",
    "    for _ in range(num_samples):\n",
    "        mvn_sample = generate_mvn()[0]\n",
    "        wish_sample = generate_wishart()[0]\n",
    "        mvn_sample= mvn_sample.T # print(mvn_sample.T.shape)\n",
    "        print(wish_sample.shape)\n",
    "        #assert 0 == 1\n",
    "        block_mat = create_block_matrix(wish_sample, mvn_sample.T)\n",
    "        log_det = calculate_log_det(block_mat)\n",
    "        det_samples.append(log_det)\n",
    "    \n",
    "    return det_samples\n",
    "    "
   ]
  },
  {
   "cell_type": "code",
   "execution_count": 35,
   "metadata": {},
   "outputs": [
    {
     "name": "stdout",
     "output_type": "stream",
     "text": [
      "(2,)\n"
     ]
    },
    {
     "ename": "ValueError",
     "evalue": "all the input array dimensions except for the concatenation axis must match exactly, but along dimension 0, the array at index 0 has size 1 and the array at index 1 has size 2",
     "output_type": "error",
     "traceback": [
      "\u001b[0;31m---------------------------------------------------------------------------\u001b[0m",
      "\u001b[0;31mValueError\u001b[0m                                Traceback (most recent call last)",
      "Cell \u001b[0;32mIn[35], line 4\u001b[0m\n\u001b[1;32m      1\u001b[0m \u001b[38;5;28;01mimport\u001b[39;00m \u001b[38;5;21;01mmatplotlib\u001b[39;00m\u001b[38;5;21;01m.\u001b[39;00m\u001b[38;5;21;01mpyplot\u001b[39;00m \u001b[38;5;28;01mas\u001b[39;00m \u001b[38;5;21;01mplt\u001b[39;00m\n\u001b[1;32m      3\u001b[0m \u001b[38;5;66;03m# Run the sample pipeline\u001b[39;00m\n\u001b[0;32m----> 4\u001b[0m det_samples \u001b[38;5;241m=\u001b[39m \u001b[43msample_pipeline\u001b[49m\u001b[43m(\u001b[49m\u001b[43m)\u001b[49m\n\u001b[1;32m      6\u001b[0m \u001b[38;5;66;03m# Plot the samples\u001b[39;00m\n\u001b[1;32m      7\u001b[0m plt\u001b[38;5;241m.\u001b[39mplot(det_samples)\n",
      "Cell \u001b[0;32mIn[34], line 9\u001b[0m, in \u001b[0;36msample_pipeline\u001b[0;34m(num_samples)\u001b[0m\n\u001b[1;32m      7\u001b[0m \u001b[38;5;28mprint\u001b[39m(wish_sample\u001b[38;5;241m.\u001b[39mshape)\n\u001b[1;32m      8\u001b[0m \u001b[38;5;66;03m#assert 0 == 1\u001b[39;00m\n\u001b[0;32m----> 9\u001b[0m block_mat \u001b[38;5;241m=\u001b[39m \u001b[43mcreate_block_matrix\u001b[49m\u001b[43m(\u001b[49m\u001b[43mwish_sample\u001b[49m\u001b[43m,\u001b[49m\u001b[43m \u001b[49m\u001b[43mmvn_sample\u001b[49m\u001b[38;5;241;43m.\u001b[39;49m\u001b[43mT\u001b[49m\u001b[43m)\u001b[49m\n\u001b[1;32m     10\u001b[0m log_det \u001b[38;5;241m=\u001b[39m calculate_log_det(block_mat)\n\u001b[1;32m     11\u001b[0m det_samples\u001b[38;5;241m.\u001b[39mappend(log_det)\n",
      "Cell \u001b[0;32mIn[16], line 5\u001b[0m, in \u001b[0;36mcreate_block_matrix\u001b[0;34m(mat, vec)\u001b[0m\n\u001b[1;32m      3\u001b[0m \u001b[38;5;28;01mdef\u001b[39;00m \u001b[38;5;21mcreate_block_matrix\u001b[39m(mat, vec):\n\u001b[1;32m      4\u001b[0m     \u001b[38;5;66;03m# Create the block matrix\u001b[39;00m\n\u001b[0;32m----> 5\u001b[0m     block_matrix \u001b[38;5;241m=\u001b[39m \u001b[43mnp\u001b[49m\u001b[38;5;241;43m.\u001b[39;49m\u001b[43mblock\u001b[49m\u001b[43m(\u001b[49m\u001b[43m[\u001b[49m\u001b[43m[\u001b[49m\u001b[43mmat\u001b[49m\u001b[43m,\u001b[49m\u001b[43m \u001b[49m\u001b[43mvec\u001b[49m\u001b[43m[\u001b[49m\u001b[43m:\u001b[49m\u001b[43m,\u001b[49m\u001b[43m \u001b[49m\u001b[43mnp\u001b[49m\u001b[38;5;241;43m.\u001b[39;49m\u001b[43mnewaxis\u001b[49m\u001b[43m]\u001b[49m\u001b[43m]\u001b[49m\u001b[43m,\u001b[49m\u001b[43m \u001b[49m\u001b[43m[\u001b[49m\u001b[43mvec\u001b[49m\u001b[43m,\u001b[49m\u001b[43m \u001b[49m\u001b[38;5;241;43m1\u001b[39;49m\u001b[43m]\u001b[49m\u001b[43m]\u001b[49m\u001b[43m)\u001b[49m\n\u001b[1;32m      7\u001b[0m     \u001b[38;5;66;03m# Return the block matrix\u001b[39;00m\n\u001b[1;32m      8\u001b[0m     \u001b[38;5;28;01mreturn\u001b[39;00m block_matrix\n",
      "File \u001b[0;32m~/Library/CloudStorage/OneDrive-ImperialCollegeLondon/Work (one drive)/Imperial/year_4/M4R/dcsbm_venv/lib/python3.10/site-packages/numpy/core/shape_base.py:872\u001b[0m, in \u001b[0;36mblock\u001b[0;34m(arrays)\u001b[0m\n\u001b[1;32m    870\u001b[0m     \u001b[38;5;28;01mreturn\u001b[39;00m _block_slicing(arrays, list_ndim, result_ndim)\n\u001b[1;32m    871\u001b[0m \u001b[38;5;28;01melse\u001b[39;00m:\n\u001b[0;32m--> 872\u001b[0m     \u001b[38;5;28;01mreturn\u001b[39;00m \u001b[43m_block_concatenate\u001b[49m\u001b[43m(\u001b[49m\u001b[43marrays\u001b[49m\u001b[43m,\u001b[49m\u001b[43m \u001b[49m\u001b[43mlist_ndim\u001b[49m\u001b[43m,\u001b[49m\u001b[43m \u001b[49m\u001b[43mresult_ndim\u001b[49m\u001b[43m)\u001b[49m\n",
      "File \u001b[0;32m~/Library/CloudStorage/OneDrive-ImperialCollegeLondon/Work (one drive)/Imperial/year_4/M4R/dcsbm_venv/lib/python3.10/site-packages/numpy/core/shape_base.py:916\u001b[0m, in \u001b[0;36m_block_concatenate\u001b[0;34m(arrays, list_ndim, result_ndim)\u001b[0m\n\u001b[1;32m    915\u001b[0m \u001b[38;5;28;01mdef\u001b[39;00m \u001b[38;5;21m_block_concatenate\u001b[39m(arrays, list_ndim, result_ndim):\n\u001b[0;32m--> 916\u001b[0m     result \u001b[38;5;241m=\u001b[39m \u001b[43m_block\u001b[49m\u001b[43m(\u001b[49m\u001b[43marrays\u001b[49m\u001b[43m,\u001b[49m\u001b[43m \u001b[49m\u001b[43mlist_ndim\u001b[49m\u001b[43m,\u001b[49m\u001b[43m \u001b[49m\u001b[43mresult_ndim\u001b[49m\u001b[43m)\u001b[49m\n\u001b[1;32m    917\u001b[0m     \u001b[38;5;28;01mif\u001b[39;00m list_ndim \u001b[38;5;241m==\u001b[39m \u001b[38;5;241m0\u001b[39m:\n\u001b[1;32m    918\u001b[0m         \u001b[38;5;66;03m# Catch an edge case where _block returns a view because\u001b[39;00m\n\u001b[1;32m    919\u001b[0m         \u001b[38;5;66;03m# `arrays` is a single numpy array and not a list of numpy arrays.\u001b[39;00m\n\u001b[1;32m    920\u001b[0m         \u001b[38;5;66;03m# This might copy scalars or lists twice, but this isn't a likely\u001b[39;00m\n\u001b[1;32m    921\u001b[0m         \u001b[38;5;66;03m# usecase for those interested in performance\u001b[39;00m\n\u001b[1;32m    922\u001b[0m         result \u001b[38;5;241m=\u001b[39m result\u001b[38;5;241m.\u001b[39mcopy()\n",
      "File \u001b[0;32m~/Library/CloudStorage/OneDrive-ImperialCollegeLondon/Work (one drive)/Imperial/year_4/M4R/dcsbm_venv/lib/python3.10/site-packages/numpy/core/shape_base.py:683\u001b[0m, in \u001b[0;36m_block\u001b[0;34m(arrays, max_depth, result_ndim, depth)\u001b[0m\n\u001b[1;32m    674\u001b[0m \u001b[38;5;250m\u001b[39m\u001b[38;5;124;03m\"\"\"\u001b[39;00m\n\u001b[1;32m    675\u001b[0m \u001b[38;5;124;03mInternal implementation of block based on repeated concatenation.\u001b[39;00m\n\u001b[1;32m    676\u001b[0m \u001b[38;5;124;03m`arrays` is the argument passed to\u001b[39;00m\n\u001b[0;32m   (...)\u001b[0m\n\u001b[1;32m    680\u001b[0m \u001b[38;5;124;03mfor details).\u001b[39;00m\n\u001b[1;32m    681\u001b[0m \u001b[38;5;124;03m\"\"\"\u001b[39;00m\n\u001b[1;32m    682\u001b[0m \u001b[38;5;28;01mif\u001b[39;00m depth \u001b[38;5;241m<\u001b[39m max_depth:\n\u001b[0;32m--> 683\u001b[0m     arrs \u001b[38;5;241m=\u001b[39m [_block(arr, max_depth, result_ndim, depth\u001b[38;5;241m+\u001b[39m\u001b[38;5;241m1\u001b[39m)\n\u001b[1;32m    684\u001b[0m             \u001b[38;5;28;01mfor\u001b[39;00m arr \u001b[38;5;129;01min\u001b[39;00m arrays]\n\u001b[1;32m    685\u001b[0m     \u001b[38;5;28;01mreturn\u001b[39;00m _concatenate(arrs, axis\u001b[38;5;241m=\u001b[39m\u001b[38;5;241m-\u001b[39m(max_depth\u001b[38;5;241m-\u001b[39mdepth))\n\u001b[1;32m    686\u001b[0m \u001b[38;5;28;01melse\u001b[39;00m:\n\u001b[1;32m    687\u001b[0m     \u001b[38;5;66;03m# We've 'bottomed out' - arrays is either a scalar or an array\u001b[39;00m\n\u001b[1;32m    688\u001b[0m     \u001b[38;5;66;03m# type(arrays) is not list\u001b[39;00m\n",
      "File \u001b[0;32m~/Library/CloudStorage/OneDrive-ImperialCollegeLondon/Work (one drive)/Imperial/year_4/M4R/dcsbm_venv/lib/python3.10/site-packages/numpy/core/shape_base.py:683\u001b[0m, in \u001b[0;36m<listcomp>\u001b[0;34m(.0)\u001b[0m\n\u001b[1;32m    674\u001b[0m \u001b[38;5;250m\u001b[39m\u001b[38;5;124;03m\"\"\"\u001b[39;00m\n\u001b[1;32m    675\u001b[0m \u001b[38;5;124;03mInternal implementation of block based on repeated concatenation.\u001b[39;00m\n\u001b[1;32m    676\u001b[0m \u001b[38;5;124;03m`arrays` is the argument passed to\u001b[39;00m\n\u001b[0;32m   (...)\u001b[0m\n\u001b[1;32m    680\u001b[0m \u001b[38;5;124;03mfor details).\u001b[39;00m\n\u001b[1;32m    681\u001b[0m \u001b[38;5;124;03m\"\"\"\u001b[39;00m\n\u001b[1;32m    682\u001b[0m \u001b[38;5;28;01mif\u001b[39;00m depth \u001b[38;5;241m<\u001b[39m max_depth:\n\u001b[0;32m--> 683\u001b[0m     arrs \u001b[38;5;241m=\u001b[39m [\u001b[43m_block\u001b[49m\u001b[43m(\u001b[49m\u001b[43marr\u001b[49m\u001b[43m,\u001b[49m\u001b[43m \u001b[49m\u001b[43mmax_depth\u001b[49m\u001b[43m,\u001b[49m\u001b[43m \u001b[49m\u001b[43mresult_ndim\u001b[49m\u001b[43m,\u001b[49m\u001b[43m \u001b[49m\u001b[43mdepth\u001b[49m\u001b[38;5;241;43m+\u001b[39;49m\u001b[38;5;241;43m1\u001b[39;49m\u001b[43m)\u001b[49m\n\u001b[1;32m    684\u001b[0m             \u001b[38;5;28;01mfor\u001b[39;00m arr \u001b[38;5;129;01min\u001b[39;00m arrays]\n\u001b[1;32m    685\u001b[0m     \u001b[38;5;28;01mreturn\u001b[39;00m _concatenate(arrs, axis\u001b[38;5;241m=\u001b[39m\u001b[38;5;241m-\u001b[39m(max_depth\u001b[38;5;241m-\u001b[39mdepth))\n\u001b[1;32m    686\u001b[0m \u001b[38;5;28;01melse\u001b[39;00m:\n\u001b[1;32m    687\u001b[0m     \u001b[38;5;66;03m# We've 'bottomed out' - arrays is either a scalar or an array\u001b[39;00m\n\u001b[1;32m    688\u001b[0m     \u001b[38;5;66;03m# type(arrays) is not list\u001b[39;00m\n",
      "File \u001b[0;32m~/Library/CloudStorage/OneDrive-ImperialCollegeLondon/Work (one drive)/Imperial/year_4/M4R/dcsbm_venv/lib/python3.10/site-packages/numpy/core/shape_base.py:685\u001b[0m, in \u001b[0;36m_block\u001b[0;34m(arrays, max_depth, result_ndim, depth)\u001b[0m\n\u001b[1;32m    682\u001b[0m \u001b[38;5;28;01mif\u001b[39;00m depth \u001b[38;5;241m<\u001b[39m max_depth:\n\u001b[1;32m    683\u001b[0m     arrs \u001b[38;5;241m=\u001b[39m [_block(arr, max_depth, result_ndim, depth\u001b[38;5;241m+\u001b[39m\u001b[38;5;241m1\u001b[39m)\n\u001b[1;32m    684\u001b[0m             \u001b[38;5;28;01mfor\u001b[39;00m arr \u001b[38;5;129;01min\u001b[39;00m arrays]\n\u001b[0;32m--> 685\u001b[0m     \u001b[38;5;28;01mreturn\u001b[39;00m \u001b[43m_concatenate\u001b[49m\u001b[43m(\u001b[49m\u001b[43marrs\u001b[49m\u001b[43m,\u001b[49m\u001b[43m \u001b[49m\u001b[43maxis\u001b[49m\u001b[38;5;241;43m=\u001b[39;49m\u001b[38;5;241;43m-\u001b[39;49m\u001b[43m(\u001b[49m\u001b[43mmax_depth\u001b[49m\u001b[38;5;241;43m-\u001b[39;49m\u001b[43mdepth\u001b[49m\u001b[43m)\u001b[49m\u001b[43m)\u001b[49m\n\u001b[1;32m    686\u001b[0m \u001b[38;5;28;01melse\u001b[39;00m:\n\u001b[1;32m    687\u001b[0m     \u001b[38;5;66;03m# We've 'bottomed out' - arrays is either a scalar or an array\u001b[39;00m\n\u001b[1;32m    688\u001b[0m     \u001b[38;5;66;03m# type(arrays) is not list\u001b[39;00m\n\u001b[1;32m    689\u001b[0m     \u001b[38;5;28;01mreturn\u001b[39;00m _atleast_nd(arrays, result_ndim)\n",
      "\u001b[0;31mValueError\u001b[0m: all the input array dimensions except for the concatenation axis must match exactly, but along dimension 0, the array at index 0 has size 1 and the array at index 1 has size 2"
     ]
    }
   ],
   "source": [
    "import matplotlib.pyplot as plt\n",
    "\n",
    "# Run the sample pipeline\n",
    "det_samples = sample_pipeline()\n",
    "\n",
    "# Plot the samples\n",
    "plt.plot(det_samples)\n",
    "plt.xlabel('Sample Index')\n",
    "plt.ylabel('Log Determinant')\n",
    "plt.title('Log Determinant Samples')\n",
    "plt.show()\n"
   ]
  },
  {
   "cell_type": "code",
   "execution_count": null,
   "metadata": {},
   "outputs": [],
   "source": []
  }
 ],
 "metadata": {
  "kernelspec": {
   "display_name": "dcsbm_venv",
   "language": "python",
   "name": "python3"
  },
  "language_info": {
   "codemirror_mode": {
    "name": "ipython",
    "version": 3
   },
   "file_extension": ".py",
   "mimetype": "text/x-python",
   "name": "python",
   "nbconvert_exporter": "python",
   "pygments_lexer": "ipython3",
   "version": "3.10.4"
  }
 },
 "nbformat": 4,
 "nbformat_minor": 2
}
